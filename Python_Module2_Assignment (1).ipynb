{
 "cells": [
  {
   "cell_type": "raw",
   "id": "5b1b2dc9-309a-4f5b-94bc-76fca58ae2af",
   "metadata": {},
   "source": [
    "Question 1 :- Describe string slicing and provide examples."
   ]
  },
  {
   "cell_type": "code",
   "execution_count": 14,
   "id": "54d4518a-cac9-4298-a3bd-68780458b80a",
   "metadata": {},
   "outputs": [
    {
     "name": "stdout",
     "output_type": "stream",
     "text": [
      "ahn\n",
      "ndVih\n"
     ]
    }
   ],
   "source": [
    "#Answer :- In Python, Slicing is the way to access the portion or substring of string using the range of indices.\n",
    "#General syntax for slicing is:-  string[start_value:stop_value:step_value]\n",
    "\n",
    "#Example 1\n",
    "\n",
    "string = 'Prashant Tyagi'\n",
    "a1=string[2:7:2] # in this case, the started value is index 2 i.e a and stop value is index 7 i.e t (last value always exclusive) and the step value is the gap,if it is not mentioned by default it is taken as 1.\n",
    "print(a1)\n",
    "\n",
    "#Example 2 \n",
    "\n",
    "string_2 = 'AnandViharTerminal'\n",
    "b1=string_2[3:8] # in this case, the started value is index 3 i.e. n and stop value is index 8 i.e. a while it is ended with h because the last value of range is exclusive it operates only last value-1 and the step it is taken by default 1.\n",
    "print(b1)"
   ]
  },
  {
   "cell_type": "raw",
   "id": "1880a823-b02a-4cf5-9420-38c3dfc3bbbf",
   "metadata": {},
   "source": [
    "Question 2:- Explain the key feature of list in Python."
   ]
  },
  {
   "cell_type": "code",
   "execution_count": null,
   "id": "7481f4e0-91f4-4cc3-b8cd-7dd108936383",
   "metadata": {},
   "outputs": [],
   "source": [
    "#Answer :- List in the python are one of the most versatile and commonly used data structure.\n",
    "# Below are the key feature of list\n",
    "\n",
    "# 1. Ordered :- list is orderable and maintain the order of element in which they are created.\n",
    "a2 = ['Tyagi','Prashant',20,30,True,3.4]\n",
    "print(a)\n",
    "\n",
    "\n",
    "\n",
    "# 2. Mutable :- We can change the elements after the creation\n",
    "a3 = ['Tyagi','Prashant',20,30,True,3.4]\n",
    "a3[2] = 'One Man Army'\n",
    "print(a3)\n",
    "\n",
    "\n",
    "\n",
    "# 3. Dynamic :- List can grow or shrink in size ( we can add or remove the elements from the lists)\n",
    "\n",
    "a4 = ['Tyagi','Prashant',20,30,True,3.4]\n",
    "a4.append(27) # the value 27 will be added in the list\n",
    "print(a4)\n",
    "a4.pop() # using the pop function we can delete the last element of the list.\n",
    "print(a4)\n",
    "a4.remove(3.4) # by the remove function we can remove the elements of the list by passing the values in the remove function.\n",
    "print(a4)\n",
    "\n",
    "\n",
    "\n",
    "# 4. Heterogenous :- List is heterogenous i.e it can contains different types of elements as the below list a is having String values, Boolean Values, Float Values, integers.\n",
    "\n",
    "a5 = ['Tyagi','Prashant',20,30,True,3.4]\n",
    "\n",
    "\n",
    "\n",
    "# 5. Slicing :- List is slicable we can get the portion of a string using range\n",
    "#Example :-\n",
    "\n",
    "a6 = ['Tyagi','Prashant',20,30,True,3.4]\n",
    "\n",
    "a7 = a6 [0:4]\n",
    "print(a7) # We can slice the 4 elements from the list a6\n",
    "\n",
    "\n",
    "# 6. Iteration :- List are iterable over the loop functions :- \n",
    "#Example :- \n",
    "\n",
    "a8 = ['Tyagi','Prashant',20,30,True,3.4]\n",
    "\n",
    "for i in a8:\n",
    "    print(i)\n",
    "    \n",
    "\n",
    "\n",
    "# 7. Nested List :- List can contain the another list as an element:-\n",
    "\n",
    "a9 = [[1,3,5,7],'Tyagi','Prashant',20,30,True,3.4]\n",
    "print(a9)\n",
    "print(a9[0])\n",
    "print(a9[0][3]) # it prints the third index within the 0 index of list a9.\n"
   ]
  },
  {
   "cell_type": "raw",
   "id": "50427692-e8a5-469f-97b9-f6ad0b61dedd",
   "metadata": {},
   "source": [
    "Question 3 :- Describe, How to access, modify, delete elements in a list with example?"
   ]
  },
  {
   "cell_type": "code",
   "execution_count": 40,
   "id": "07d31e2e-e214-452b-b91c-46317ef2d7cc",
   "metadata": {},
   "outputs": [
    {
     "name": "stdout",
     "output_type": "stream",
     "text": [
      "Prashant\n",
      "['Tyagi', 'Prashant', 20, 6000, True, 3.4]\n",
      "['Tyagi', 'Prashant', 20, 6000, True, 3.4, 12000]\n",
      "['Tyagi', 'Prashant', 20, 30, True]\n",
      "['Tyagi', 'Prashant', 20, True]\n"
     ]
    }
   ],
   "source": [
    "#Answer :- We can access, modify and delete the elements within the list, below are the examples:-\n",
    "\n",
    "\n",
    "# Accessing the elements 'Prashant' from the list\n",
    "\n",
    "a10 = ['Tyagi','Prashant',20,30,True,3.4]\n",
    "print(a10[1])\n",
    "\n",
    "\n",
    "# Modify the element in a list\n",
    "\n",
    "a11 = ['Tyagi','Prashant',20,30,True,3.4]\n",
    "a11[3] = 6000 # Here we modify the value 20 with the 6000\n",
    "print(a11)\n",
    "\n",
    "a11.append(12000) # Here we added the value 12000 in the list\n",
    "print(a11)\n",
    "\n",
    "\n",
    "# Deleting the elements in a list\n",
    "\n",
    "a12 = ['Tyagi','Prashant',20,30,True,3.4]\n",
    "a12.pop() # by using the pop function we can delete the last element of the list\n",
    "print(a12)\n",
    "\n",
    "a12.remove(30) # by using the remove the we can delete the element of list by passing the elements through the list.\n",
    "print(a12) \n"
   ]
  },
  {
   "cell_type": "raw",
   "id": "162016a7-45ba-4335-ae12-f820efcee0a5",
   "metadata": {},
   "source": [
    "Question 4 :- Compare and contrasrt tuples and lists with examples."
   ]
  },
  {
   "cell_type": "code",
   "execution_count": 5,
   "id": "6594fc2c-6cfd-4b7b-a6c7-27fd2ae27cca",
   "metadata": {},
   "outputs": [
    {
     "name": "stdout",
     "output_type": "stream",
     "text": [
      "[1, 4, 4.5, 'Tyagi', 10]\n"
     ]
    }
   ],
   "source": [
    "#Answer:- Tuples and lists both are data structures in python but having some fundamental differences in term of mutability, syntax and intended usage.\n",
    "\n",
    "#Lists :- \n",
    "\n",
    "# 1. Mutability :- Lists are mutable i.e. we can change the elements within the list after the creation.\n",
    "# 2. Dynamic :- The size of the list can be changes i.e. elements can be removed or added.\n",
    "# 3. Syntax :- Lists are defined using the square bracket '[]'.\n",
    "# 4. Performance:- Lists are slightly slower than tuples due to their dynamic nature.\n",
    "\n",
    "#Example\n",
    "a = [1,4,4.5, 'Tyagi'] # List a is created \n",
    "a.append(10) # here we added the 10 to the list.\n",
    "print (a)\n",
    "\n",
    "\n",
    "# Tuples :- \n",
    "# 1. Mutability :- Tuples are immutables i.e. we cannot change the elements after the creation.\n",
    "# 2. Fixed Size :- Size of the tuple cannot be changed after the creation.\n",
    "# 3. Synatx :- Tuples are defined using paranthesis '()'.\n",
    "# 4. Performance :- Tuples are faster than lists because of their mutability.\n",
    "\n",
    "#Examples:- \n",
    "b = (1,3,5.6,'tyagi') # if we are trying to change the tuple it will show error.\n",
    "\n",
    "\n",
    "\n",
    "\n",
    "\n"
   ]
  },
  {
   "cell_type": "raw",
   "id": "6a400d21-72b9-4f21-b6f5-eaa10e4540c6",
   "metadata": {},
   "source": [
    "Questions 5 :- Describe the key featire of sets and provides examples of their use."
   ]
  },
  {
   "cell_type": "code",
   "execution_count": 15,
   "id": "aa0c0b42-a80d-4dd5-9898-d1e2b21a7164",
   "metadata": {},
   "outputs": [
    {
     "name": "stdout",
     "output_type": "stream",
     "text": [
      "{1, 2, 4, 5, 6.7}\n"
     ]
    }
   ],
   "source": [
    "# Answer :- Sets are the collection of unique elements and they are unordered.\n",
    "# Below are the key feature of elements :- \n",
    "# 1. Unordered collection :- Elements in sets are not stored in any particular position in a set.\n",
    "# 2. Unique Elements :- Sets automatically discard the duplicates items.\n",
    "# 3. Muatble :- Sets themselves are mutable, meaning yu can add or remove the items but the elements contains within must be immutable.\n",
    "# 4. Unindexed :- Sets do not support indexing, slicing or other sequence-like behaviour.\n",
    "\n",
    "\n",
    "# Example :- \n",
    "\n",
    "my_set = {1,2,2,4,5,6.7} # total no of elements in the set is 10\n",
    "\n",
    "print(my_set) # during the printing of elements duplicate values have been removed."
   ]
  },
  {
   "cell_type": "raw",
   "id": "ae7cc8bc-c2c0-4147-b8d8-e9cec18d7d56",
   "metadata": {},
   "source": [
    "Questions 6 :- Discuss the use case of tuples and sets in Python programming."
   ]
  },
  {
   "cell_type": "code",
   "execution_count": 6,
   "id": "6799d7ac-5070-4348-9c35-8fa2e13b2955",
   "metadata": {},
   "outputs": [
    {
     "name": "stdout",
     "output_type": "stream",
     "text": [
      "X: 10, Y: 20\n",
      "Red: 255, Green: 0, Blue: 0\n",
      "Min: 1, Max: 5\n",
      "A\n",
      "{1, 2, 3, 4, 5}\n",
      "Invalid ID\n",
      "{'Tom', 'John', 'Bob', 'Alice'}\n",
      "{'Bob', 'Alice'}\n",
      "{'John'}\n",
      "{'Tom', 'John'}\n",
      "{'world', 'hello'}\n"
     ]
    }
   ],
   "source": [
    "# Answer :- Use case of Tuples :- \n",
    "# Tuples are often used when you need to store a collection of items that should not be changed throughout the programme, they are partcularly usefule in the below scenerio :- \n",
    "# 1. Fixed collection of items :- When you need a collection of items that will not change, such as coordinates (x, y) or RGB color values (R, G, B).\n",
    "# Example of coordinates\n",
    "point = (10, 20)\n",
    "print(f\"X: {point[0]}, Y: {point[1]}\")\n",
    "\n",
    "# Example of RGB color\n",
    "color = (255, 0, 0)\n",
    "print(f\"Red: {color[0]}, Green: {color[1]}, Blue: {color[2]}\")\n",
    "\n",
    "\n",
    "\n",
    "# 2. Function Return :- When a function needs to return multiple values, tuples are an efficient way to package them together.\n",
    "# Example \n",
    "def get_min_max(numbers):\n",
    "    return (min(numbers), max(numbers))\n",
    "\n",
    "result = get_min_max([1, 2, 3, 4, 5])\n",
    "print(f\"Min: {result[0]}, Max: {result[1]}\")\n",
    "\n",
    "\n",
    "# 3. Dictionary Keys :- Tuples can be used as keys in dictionaries because they are immutable and hashable.\n",
    "\n",
    "# Example of tuples as dictionary keys\n",
    "student_grades = {('John', 'Doe'): 'A', ('Jane', 'Smith'): 'B'}\n",
    "print(student_grades[('John', 'Doe')])  # Output: A\n",
    "\n",
    "\n",
    "# 4. Ensuring Data Integrity :- When you want to make sure that the collection of items remains constant and not accidentally altered.\n",
    "# Example of days of the week\n",
    "days_of_week = (\"Monday\", \"Tuesday\", \"Wednesday\", \"Thursday\", \"Friday\", \"Saturday\", \"Sunday\")\n",
    "\n",
    "# Use case of Sets :- \n",
    "# 1. Removing Duplicates from a Collection :- Sets automatically discard duplicate values, making them useful for removing duplicates from lists.\n",
    "# Example :- \n",
    "my_list = [1, 2, 2, 3, 4, 4, 5]\n",
    "unique_set = set(my_list)\n",
    "print(unique_set)  # Output: {1, 2, 3, 4, 5}\n",
    "\n",
    "# 2. Membership Testing :- Sets provide efficient membership testing, which is faster than lists, especially for large collections.\n",
    "\n",
    "valid_ids = {101, 102, 103, 104}\n",
    "user_id = 105\n",
    "if user_id in valid_ids:\n",
    "    print(\"Valid ID\")\n",
    "else:\n",
    "    print(\"Invalid ID\")  # Output: Invalid ID\n",
    "\n",
    "    \n",
    "    \n",
    "# 3. Set Operations :- Sets support mathematical operations like union, intersection, difference, and symmetric difference, which are useful for various data processing tasks.\n",
    "employees_in_project_a = {\"John\", \"Alice\", \"Bob\"}\n",
    "employees_in_project_b = {\"Alice\", \"Bob\", \"Tom\"}\n",
    "\n",
    "# Employees in either project\n",
    "all_employees = employees_in_project_a.union(employees_in_project_b)\n",
    "print(all_employees)  # Output: {\"John\", \"Alice\", \"Bob\", \"Tom\"}\n",
    "\n",
    "# Employees in both projects\n",
    "common_employees = employees_in_project_a.intersection(employees_in_project_b)\n",
    "print(common_employees)  # Output: {\"Alice\", \"Bob\"}\n",
    "\n",
    "# Employees only in project A\n",
    "only_project_a = employees_in_project_a.difference(employees_in_project_b)\n",
    "print(only_project_a)  # Output: {\"John\"}\n",
    "\n",
    "# Employees in either project but not both\n",
    "symmetric_difference = employees_in_project_a.symmetric_difference(employees_in_project_b)\n",
    "print(symmetric_difference)  # Output: {\"John\", \"Tom\"}\n",
    "\n",
    "\n",
    "# 4. Tracking Unique Items :- Sets are useful for keeping track of unique items in a collection, such as tracking unique words in a text.\n",
    "\n",
    "text = \"hello world hello\"\n",
    "words = text.split()\n",
    "unique_words = set(words)\n",
    "print(unique_words)  # Output: {\"hello\", \"world\"}\n"
   ]
  },
  {
   "cell_type": "raw",
   "id": "95be17e6-fbe0-4917-bb76-683f137ad2e4",
   "metadata": {},
   "source": [
    "Questions 7 :- Describe how to add, modify and delete items from dictionary with examples."
   ]
  },
  {
   "cell_type": "code",
   "execution_count": 18,
   "id": "93ee2280-ad2f-491e-92b5-117a84435030",
   "metadata": {},
   "outputs": [
    {
     "name": "stdout",
     "output_type": "stream",
     "text": [
      "{'a': 'Prashant', 'b': 'Tyagi', 'c': 'Aditi', 'd': 'Ananya'}\n",
      "{'a': 'Prashant', 'b': 'Tyagi', 'c': 'Aditi Tyagi', 'd': 'Ananya'}\n",
      "{'a': 'Prashant', 'b': 'Tyagi', 'c': 'Aditi Tyagi'}\n"
     ]
    }
   ],
   "source": [
    "#Answer :- \n",
    "\n",
    "my_dict = {'a':'Prashant','b':'Tyagi','c':'Aditi'}\n",
    "\n",
    "#Adding elements to dictionary\n",
    "\n",
    "my_dict['d']  = 'Ananya'\n",
    "print(my_dict)\n",
    "\n",
    "\n",
    "# Modifying elements in dictionary\n",
    "\n",
    "my_dict['c'] = 'Aditi Tyagi' # Element Aditi has been changed to Aditi Tyagi\n",
    "print(my_dict)\n",
    "\n",
    "\n",
    "# Deleteing the elements from the dictionary \n",
    "del my_dict['d'] # The element Ananya has been deleting from the dictionary\n",
    "print(my_dict)"
   ]
  },
  {
   "cell_type": "raw",
   "id": "389f3c65-c807-4755-a5fe-7f61ff98ca23",
   "metadata": {},
   "source": [
    "Questions 8 :- Discuss the importance of keys being immutable and provide the examples."
   ]
  },
  {
   "cell_type": "code",
   "execution_count": 20,
   "id": "830d7498-fcce-45bc-b734-73e1f4733020",
   "metadata": {},
   "outputs": [
    {
     "name": "stdout",
     "output_type": "stream",
     "text": [
      "unhashable type: 'list'\n",
      "unhashable type: 'dict'\n"
     ]
    }
   ],
   "source": [
    "# Answer :- Importance of Keys Being Immutable in Dictionaries are :- \n",
    "\n",
    "#Hashing Requirement :- Dictionaries in Python use a hash table to store key-value pairs. Immutable objects have a fixed hash value, ensuring the hash table can quickly locate keys.\n",
    "\n",
    "#Consistency :- If keys were mutable, their hash value could change, making it impossible to retrieve the associated value reliably, potentially leading to data loss or corruption.\n",
    "\n",
    "#Data Integrity :- Immutable keys ensure that once a key-value pair is added to the dictionary, the key remains constant, maintaining the integrity and predictability of the dictionary structure.\n",
    "\n",
    "#Examples :- \n",
    "\n",
    "#Valid (Immutable keys)\n",
    "# Using strings as keys\n",
    "person = {\"name\": \"Alice\", \"age\": 30}\n",
    "\n",
    "# Using numbers as keys\n",
    "squares = {1: 1, 2: 4, 3: 9, 4: 16}\n",
    "\n",
    "# Using tuples as keys\n",
    "coordinates = {(34.0522, -118.2437): \"Los Angeles\", (40.7128, -74.0060): \"New York\"}\n",
    "\n",
    "\n",
    "#Invalid (Mutable Keys) :- \n",
    "\n",
    "# Using a list as a key (will raise a TypeError)\n",
    "try:\n",
    "    invalid_dict = {[1, 2, 3]: \"list as key\"}\n",
    "except TypeError as e:\n",
    "    print(e)  # Output: unhashable type: 'list'\n",
    "\n",
    "# Using a dictionary as a key (will raise a TypeError)\n",
    "try:\n",
    "    invalid_dict = {{'key': 'value'}: \"dict as key\"}\n",
    "except TypeError as e:\n",
    "    print(e)  # Output: unhashable type: 'dict'\n"
   ]
  },
  {
   "cell_type": "code",
   "execution_count": null,
   "id": "412b7a5c-5dbb-4593-96f3-8888370d0ebb",
   "metadata": {},
   "outputs": [],
   "source": []
  }
 ],
 "metadata": {
  "kernelspec": {
   "display_name": "Python 3 (ipykernel)",
   "language": "python",
   "name": "python3"
  },
  "language_info": {
   "codemirror_mode": {
    "name": "ipython",
    "version": 3
   },
   "file_extension": ".py",
   "mimetype": "text/x-python",
   "name": "python",
   "nbconvert_exporter": "python",
   "pygments_lexer": "ipython3",
   "version": "3.10.8"
  }
 },
 "nbformat": 4,
 "nbformat_minor": 5
}
